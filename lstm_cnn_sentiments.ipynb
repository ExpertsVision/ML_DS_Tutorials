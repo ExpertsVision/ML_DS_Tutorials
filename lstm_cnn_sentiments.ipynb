{
  "nbformat": 4,
  "nbformat_minor": 0,
  "metadata": {
    "colab": {
      "name": "lstm_cnn_sentiments.ipynb",
      "provenance": [],
      "collapsed_sections": [],
      "authorship_tag": "ABX9TyNNZqxXWfEJJ2zI+aDjxpDJ",
      "include_colab_link": true
    },
    "kernelspec": {
      "name": "python3",
      "display_name": "Python 3"
    },
    "accelerator": "TPU"
  },
  "cells": [
    {
      "cell_type": "markdown",
      "metadata": {
        "id": "view-in-github",
        "colab_type": "text"
      },
      "source": [
        "<a href=\"https://colab.research.google.com/github/ExpertsVision/ML_DS_Tutorials/blob/master/lstm_cnn_sentiments.ipynb\" target=\"_parent\"><img src=\"https://colab.research.google.com/assets/colab-badge.svg\" alt=\"Open In Colab\"/></a>"
      ]
    },
    {
      "cell_type": "code",
      "metadata": {
        "id": "kdUNTa2fB9Xn",
        "outputId": "1fa2e262-1bb8-4f84-885c-f83f7c9f9819",
        "colab": {
          "base_uri": "https://localhost:8080/",
          "height": 35
        }
      },
      "source": [
        "import pandas as pd\n",
        "import os\n",
        "from lxml import html\n",
        "from google.colab import drive\n",
        "drive.mount(\"/content/drive\")"
      ],
      "execution_count": 1,
      "outputs": [
        {
          "output_type": "stream",
          "text": [
            "Mounted at /content/drive\n"
          ],
          "name": "stdout"
        }
      ]
    },
    {
      "cell_type": "markdown",
      "metadata": {
        "id": "BAT2A-E9GGQt"
      },
      "source": [
        "# Movie reviews sentiment analysis\n",
        "In this tutorial we will be applying LSTM and CNN for the classification of movies reviews. We won't be following standard steps of any NLP project e.g. removal of stop words, normalization etc. and will just show implementation of LSTM and CNN. In both scenarios we will be using embedding layer. There are five sentiments which we will be classifying. "
      ]
    },
    {
      "cell_type": "code",
      "metadata": {
        "id": "Jsk6mWFKB-Ub"
      },
      "source": [
        "import numpy as np # linear algebra\n",
        "import pandas as pd # data processing, CSV file I/O (e.g. pd.read_csv)\n",
        "import matplotlib.pyplot as plt\n",
        "%matplotlib inline\n",
        "import seaborn as sns\n",
        "import warnings\n",
        "\n",
        "\n",
        "\n",
        "from bs4 import BeautifulSoup\n",
        "import re\n",
        "from tqdm import tqdm\n",
        "from nltk.corpus import stopwords\n",
        "from nltk.tokenize import word_tokenize\n",
        "from nltk.stem import WordNetLemmatizer\n",
        "lemmatizer = WordNetLemmatizer()\n",
        "\n",
        "\n",
        "\n",
        "import tensorflow as tf\n",
        "\n",
        "\n",
        "\n",
        "\n",
        "from keras.utils import to_categorical\n",
        "from sklearn.model_selection import train_test_split\n",
        "from keras.preprocessing.text import Tokenizer\n",
        "from keras.preprocessing import sequence\n",
        "from keras.preprocessing.text import Tokenizer\n",
        "from keras.models import Sequential\n",
        "from keras.layers import Dense,Dropout,Embedding,LSTM,Conv2D,Flatten,MaxPooling2D\n",
        "import matplotlib.pyplot as plt\n",
        "import seaborn as sns\n",
        "from keras.preprocessing.sequence import pad_sequences\n",
        "from sklearn.model_selection import train_test_split\n",
        "from keras.utils import to_categorical\n",
        "\n",
        "import matplotlib.pyplot as plt\n"
      ],
      "execution_count": 2,
      "outputs": []
    },
    {
      "cell_type": "code",
      "metadata": {
        "id": "mXeMHLz_Ckle"
      },
      "source": [
        "df = pd.read_csv('/content/drive/My Drive/train_reviews.tsv', sep='\\t')"
      ],
      "execution_count": 3,
      "outputs": []
    },
    {
      "cell_type": "code",
      "metadata": {
        "id": "dye4a_IHC1oK",
        "outputId": "b28fc10a-bf6f-4c64-ab5f-372b5ce12939",
        "colab": {
          "base_uri": "https://localhost:8080/",
          "height": 206
        }
      },
      "source": [
        "df.head()"
      ],
      "execution_count": 4,
      "outputs": [
        {
          "output_type": "execute_result",
          "data": {
            "text/html": [
              "<div>\n",
              "<style scoped>\n",
              "    .dataframe tbody tr th:only-of-type {\n",
              "        vertical-align: middle;\n",
              "    }\n",
              "\n",
              "    .dataframe tbody tr th {\n",
              "        vertical-align: top;\n",
              "    }\n",
              "\n",
              "    .dataframe thead th {\n",
              "        text-align: right;\n",
              "    }\n",
              "</style>\n",
              "<table border=\"1\" class=\"dataframe\">\n",
              "  <thead>\n",
              "    <tr style=\"text-align: right;\">\n",
              "      <th></th>\n",
              "      <th>PhraseId</th>\n",
              "      <th>SentenceId</th>\n",
              "      <th>Phrase</th>\n",
              "      <th>Sentiment</th>\n",
              "    </tr>\n",
              "  </thead>\n",
              "  <tbody>\n",
              "    <tr>\n",
              "      <th>0</th>\n",
              "      <td>1</td>\n",
              "      <td>1</td>\n",
              "      <td>A series of escapades demonstrating the adage ...</td>\n",
              "      <td>1</td>\n",
              "    </tr>\n",
              "    <tr>\n",
              "      <th>1</th>\n",
              "      <td>2</td>\n",
              "      <td>1</td>\n",
              "      <td>A series of escapades demonstrating the adage ...</td>\n",
              "      <td>2</td>\n",
              "    </tr>\n",
              "    <tr>\n",
              "      <th>2</th>\n",
              "      <td>3</td>\n",
              "      <td>1</td>\n",
              "      <td>A series</td>\n",
              "      <td>2</td>\n",
              "    </tr>\n",
              "    <tr>\n",
              "      <th>3</th>\n",
              "      <td>4</td>\n",
              "      <td>1</td>\n",
              "      <td>A</td>\n",
              "      <td>2</td>\n",
              "    </tr>\n",
              "    <tr>\n",
              "      <th>4</th>\n",
              "      <td>5</td>\n",
              "      <td>1</td>\n",
              "      <td>series</td>\n",
              "      <td>2</td>\n",
              "    </tr>\n",
              "  </tbody>\n",
              "</table>\n",
              "</div>"
            ],
            "text/plain": [
              "   PhraseId  ...  Sentiment\n",
              "0         1  ...          1\n",
              "1         2  ...          2\n",
              "2         3  ...          2\n",
              "3         4  ...          2\n",
              "4         5  ...          2\n",
              "\n",
              "[5 rows x 4 columns]"
            ]
          },
          "metadata": {
            "tags": []
          },
          "execution_count": 4
        }
      ]
    },
    {
      "cell_type": "code",
      "metadata": {
        "id": "M9tDO6W-C7GG"
      },
      "source": [
        "x_train = df['Phrase']\n",
        "y_train = df['Sentiment']"
      ],
      "execution_count": 5,
      "outputs": []
    },
    {
      "cell_type": "code",
      "metadata": {
        "id": "mOOl8QZ9DBYb"
      },
      "source": [
        "vocab_size = 15000\n",
        "embedding_dim = 200\n",
        "max_length = 150\n",
        "batch_size=256\n",
        "trunc_type='post'\n",
        "padding_type='post'\n",
        "oov_tok = \"<OOV>\""
      ],
      "execution_count": 6,
      "outputs": []
    },
    {
      "cell_type": "code",
      "metadata": {
        "id": "SGvBjWhjDFUt"
      },
      "source": [
        "tokenizer = Tokenizer(num_words=vocab_size)\n",
        "tokenizer.fit_on_texts(list(x_train))"
      ],
      "execution_count": 7,
      "outputs": []
    },
    {
      "cell_type": "code",
      "metadata": {
        "id": "UGzBnxZlDIX9"
      },
      "source": [
        "X_train = tokenizer.texts_to_sequences(x_train)\n",
        "X_train = pad_sequences(X_train, maxlen=max_length)"
      ],
      "execution_count": 8,
      "outputs": []
    },
    {
      "cell_type": "code",
      "metadata": {
        "id": "Ojkjx87aDKmz"
      },
      "source": [
        "Y = to_categorical(y_train.values)"
      ],
      "execution_count": 9,
      "outputs": []
    },
    {
      "cell_type": "code",
      "metadata": {
        "id": "gTb91Ss_DNex"
      },
      "source": [
        "\n",
        "train_x, val_x, train_y, val_y = train_test_split(X_train, Y, test_size=0.2)"
      ],
      "execution_count": 10,
      "outputs": []
    },
    {
      "cell_type": "code",
      "metadata": {
        "id": "BOVOmEWGDRB0",
        "outputId": "4f6bf2d9-7d73-4764-c3f5-888d20594ee9",
        "colab": {
          "base_uri": "https://localhost:8080/",
          "height": 35
        }
      },
      "source": [
        "train_x.shape, train_y.shape, val_x.shape, val_y.shape"
      ],
      "execution_count": 11,
      "outputs": [
        {
          "output_type": "execute_result",
          "data": {
            "text/plain": [
              "((124848, 150), (124848, 5), (31212, 150), (31212, 5))"
            ]
          },
          "metadata": {
            "tags": []
          },
          "execution_count": 11
        }
      ]
    },
    {
      "cell_type": "markdown",
      "metadata": {
        "id": "2jIdoXAfIMOC"
      },
      "source": [
        "# Single Layer LSTM"
      ]
    },
    {
      "cell_type": "code",
      "metadata": {
        "id": "Vhw7KIapDUz-",
        "outputId": "6d6087c2-7dca-4b35-b533-99c01b8b6c0d",
        "colab": {
          "base_uri": "https://localhost:8080/",
          "height": 274
        }
      },
      "source": [
        "model_lstm = tf.keras.Sequential([\n",
        "    tf.keras.layers.Embedding(vocab_size, embedding_dim, input_length=max_length),\n",
        "    tf.keras.layers.LSTM(64,dropout=0.4,recurrent_dropout=0.4 ),    \n",
        "    tf.keras.layers.Dense(5, activation='softmax')\n",
        "])\n",
        "\n",
        "model_lstm.compile(loss='categorical_crossentropy',optimizer='adam',metrics=['accuracy'])\n",
        "model_lstm.summary()\n",
        "\n",
        "\n",
        "\n"
      ],
      "execution_count": 12,
      "outputs": [
        {
          "output_type": "stream",
          "text": [
            "Model: \"sequential\"\n",
            "_________________________________________________________________\n",
            "Layer (type)                 Output Shape              Param #   \n",
            "=================================================================\n",
            "embedding (Embedding)        (None, 150, 200)          3000000   \n",
            "_________________________________________________________________\n",
            "lstm (LSTM)                  (None, 64)                67840     \n",
            "_________________________________________________________________\n",
            "dense (Dense)                (None, 5)                 325       \n",
            "=================================================================\n",
            "Total params: 3,068,165\n",
            "Trainable params: 3,068,165\n",
            "Non-trainable params: 0\n",
            "_________________________________________________________________\n"
          ],
          "name": "stdout"
        }
      ]
    },
    {
      "cell_type": "markdown",
      "metadata": {
        "id": "q3HpXxpyDd8K"
      },
      "source": [
        "For this tutorial, since accuracy is not our concern, so I am just setting epocs to 5. "
      ]
    },
    {
      "cell_type": "code",
      "metadata": {
        "id": "WcnqQf7KDXE8",
        "outputId": "0894cccf-cedd-451d-a886-7a3144f16ff2",
        "colab": {
          "base_uri": "https://localhost:8080/",
          "height": 221
        }
      },
      "source": [
        "num_epochs = 5\n",
        "history_lstm = model_lstm.fit(train_x, train_y, epochs=num_epochs, batch_size=batch_size, validation_data=(val_x, val_y), verbose=1)"
      ],
      "execution_count": 13,
      "outputs": [
        {
          "output_type": "stream",
          "text": [
            "Epoch 1/5\n",
            "488/488 [==============================] - 582s 1s/step - loss: 1.0197 - accuracy: 0.5902 - val_loss: 0.8565 - val_accuracy: 0.6526\n",
            "Epoch 2/5\n",
            "488/488 [==============================] - 586s 1s/step - loss: 0.7914 - accuracy: 0.6764 - val_loss: 0.8162 - val_accuracy: 0.6691\n",
            "Epoch 3/5\n",
            "488/488 [==============================] - 588s 1s/step - loss: 0.7235 - accuracy: 0.7005 - val_loss: 0.8093 - val_accuracy: 0.6726\n",
            "Epoch 4/5\n",
            "488/488 [==============================] - 584s 1s/step - loss: 0.6781 - accuracy: 0.7167 - val_loss: 0.8150 - val_accuracy: 0.6730\n",
            "Epoch 5/5\n",
            "488/488 [==============================] - 584s 1s/step - loss: 0.6401 - accuracy: 0.7298 - val_loss: 0.8256 - val_accuracy: 0.6704\n"
          ],
          "name": "stdout"
        }
      ]
    },
    {
      "cell_type": "code",
      "metadata": {
        "id": "W1n9D_sWE5yK"
      },
      "source": [
        ""
      ],
      "execution_count": 13,
      "outputs": []
    },
    {
      "cell_type": "code",
      "metadata": {
        "id": "8jNgeNVcDm_m"
      },
      "source": [
        "def plot_graphs(history, string):\n",
        "  plt.plot(history.history[string])\n",
        "  plt.plot(history.history['val_'+string])\n",
        "  plt.xlabel(\"Epochs\")\n",
        "  plt.ylabel(string)\n",
        "  plt.legend([string, 'val_'+string])\n",
        "  plt.show()"
      ],
      "execution_count": 14,
      "outputs": []
    },
    {
      "cell_type": "code",
      "metadata": {
        "id": "xprYGt1jFcku",
        "outputId": "ce810fed-2ab9-498f-b55f-c2e6dcc5af8e",
        "colab": {
          "base_uri": "https://localhost:8080/",
          "height": 541
        }
      },
      "source": [
        "plot_graphs(history_lstm, 'accuracy')\n",
        "plot_graphs(history_lstm, 'loss')"
      ],
      "execution_count": 15,
      "outputs": [
        {
          "output_type": "display_data",
          "data": {
            "image/png": "[encoded data removed]",
            "text/plain": [
              "<Figure size 432x288 with 1 Axes>"
            ]
          },
          "metadata": {
            "tags": [],
            "needs_background": "light"
          }
        },
        {
          "output_type": "display_data",
          "data": {
            "image/png": "[encoded data removed]",
            "text/plain": [
              "<Figure size 432x288 with 1 Axes>"
            ]
          },
          "metadata": {
            "tags": [],
            "needs_background": "light"
          }
        }
      ]
    },
    {
      "cell_type": "markdown",
      "metadata": {
        "id": "G7r6euRLIzgW"
      },
      "source": [
        "#Single Layer Bi-directional LSTM"
      ]
    },
    {
      "cell_type": "code",
      "metadata": {
        "id": "R3OscxNbIv53",
        "outputId": "be0b4c59-3ae5-4243-fa13-4596b1b3ffb6",
        "colab": {
          "base_uri": "https://localhost:8080/",
          "height": 274
        }
      },
      "source": [
        "model_blstm = tf.keras.Sequential([\n",
        "    tf.keras.layers.Embedding(vocab_size, embedding_dim, input_length=max_length),\n",
        "    tf.keras.layers.Bidirectional(tf.keras.layers.LSTM(64)),\n",
        "      \n",
        "    tf.keras.layers.Dense(5, activation='softmax')\n",
        "])\n",
        "\n",
        "model_blstm.compile(loss='categorical_crossentropy',optimizer='adam',metrics=['accuracy'])\n",
        "model_blstm.summary()"
      ],
      "execution_count": 16,
      "outputs": [
        {
          "output_type": "stream",
          "text": [
            "Model: \"sequential_1\"\n",
            "_________________________________________________________________\n",
            "Layer (type)                 Output Shape              Param #   \n",
            "=================================================================\n",
            "embedding_1 (Embedding)      (None, 150, 200)          3000000   \n",
            "_________________________________________________________________\n",
            "bidirectional (Bidirectional (None, 128)               135680    \n",
            "_________________________________________________________________\n",
            "dense_1 (Dense)              (None, 5)                 645       \n",
            "=================================================================\n",
            "Total params: 3,136,325\n",
            "Trainable params: 3,136,325\n",
            "Non-trainable params: 0\n",
            "_________________________________________________________________\n"
          ],
          "name": "stdout"
        }
      ]
    },
    {
      "cell_type": "code",
      "metadata": {
        "id": "B7opmbHTI7m7",
        "outputId": "d8101253-0982-40fb-8d66-a5f1923729a5",
        "colab": {
          "base_uri": "https://localhost:8080/",
          "height": 201
        }
      },
      "source": [
        "\n",
        "history_blstm = model_blstm.fit(train_x, train_y, epochs=num_epochs, batch_size=batch_size, validation_data=(val_x, val_y), verbose=2)"
      ],
      "execution_count": 17,
      "outputs": [
        {
          "output_type": "stream",
          "text": [
            "Epoch 1/5\n",
            "488/488 - 557s - loss: 0.9924 - accuracy: 0.6030 - val_loss: 0.8474 - val_accuracy: 0.6565\n",
            "Epoch 2/5\n",
            "488/488 - 554s - loss: 0.7687 - accuracy: 0.6850 - val_loss: 0.8078 - val_accuracy: 0.6710\n",
            "Epoch 3/5\n",
            "488/488 - 567s - loss: 0.6944 - accuracy: 0.7112 - val_loss: 0.8132 - val_accuracy: 0.6720\n",
            "Epoch 4/5\n",
            "488/488 - 571s - loss: 0.6407 - accuracy: 0.7296 - val_loss: 0.8193 - val_accuracy: 0.6724\n",
            "Epoch 5/5\n",
            "488/488 - 563s - loss: 0.5981 - accuracy: 0.7452 - val_loss: 0.8314 - val_accuracy: 0.6746\n"
          ],
          "name": "stdout"
        }
      ]
    },
    {
      "cell_type": "code",
      "metadata": {
        "id": "wuFFD6WyR0gQ",
        "outputId": "23aa8c8e-588c-4f7e-a803-f44b809655f1",
        "colab": {
          "base_uri": "https://localhost:8080/",
          "height": 541
        }
      },
      "source": [
        "plot_graphs(history_blstm, 'accuracy')\n",
        "plot_graphs(history_blstm, 'loss')"
      ],
      "execution_count": 18,
      "outputs": [
        {
          "output_type": "display_data",
          "data": {
            "image/png": "[encoded data removed]",
            "text/plain": [
              "<Figure size 432x288 with 1 Axes>"
            ]
          },
          "metadata": {
            "tags": [],
            "needs_background": "light"
          }
        },
        {
          "output_type": "display_data",
          "data": {
            "image/png": "[encoded data removed]",
            "text/plain": [
              "<Figure size 432x288 with 1 Axes>"
            ]
          },
          "metadata": {
            "tags": [],
            "needs_background": "light"
          }
        }
      ]
    },
    {
      "cell_type": "markdown",
      "metadata": {
        "id": "nKdjq0XzIUbD"
      },
      "source": [
        "# Multi-Layer Bi-directional LSTM\n"
      ]
    },
    {
      "cell_type": "code",
      "metadata": {
        "id": "31x4Yh8SISXl",
        "outputId": "c12b24b0-ad73-40c6-955f-0a4920805213",
        "colab": {
          "base_uri": "https://localhost:8080/",
          "height": 348
        }
      },
      "source": [
        "model_mblstm = tf.keras.Sequential([\n",
        "    tf.keras.layers.Embedding(vocab_size, embedding_dim, input_length=max_length),\n",
        "    tf.keras.layers.Bidirectional(tf.keras.layers.LSTM(64, return_sequences=True)),\n",
        "    tf.keras.layers.Bidirectional(tf.keras.layers.LSTM(32)),\n",
        "    tf.keras.layers.Dense(64, activation='relu'),\n",
        "    tf.keras.layers.Dense(5, activation='softmax')\n",
        "])\n",
        " \n",
        "model_mblstm.compile(loss='binary_crossentropy',optimizer='adam',metrics=['accuracy'])\n",
        "model_mblstm.summary()\n",
        "\n",
        "\n"
      ],
      "execution_count": 20,
      "outputs": [
        {
          "output_type": "stream",
          "text": [
            "Model: \"sequential_2\"\n",
            "_________________________________________________________________\n",
            "Layer (type)                 Output Shape              Param #   \n",
            "=================================================================\n",
            "embedding_2 (Embedding)      (None, 150, 200)          3000000   \n",
            "_________________________________________________________________\n",
            "bidirectional_1 (Bidirection (None, 150, 128)          135680    \n",
            "_________________________________________________________________\n",
            "bidirectional_2 (Bidirection (None, 64)                41216     \n",
            "_________________________________________________________________\n",
            "dense_2 (Dense)              (None, 64)                4160      \n",
            "_________________________________________________________________\n",
            "dense_3 (Dense)              (None, 5)                 325       \n",
            "=================================================================\n",
            "Total params: 3,181,381\n",
            "Trainable params: 3,181,381\n",
            "Non-trainable params: 0\n",
            "_________________________________________________________________\n"
          ],
          "name": "stdout"
        }
      ]
    },
    {
      "cell_type": "code",
      "metadata": {
        "id": "aIIA7zKSMZ5h",
        "outputId": "e825d430-a1fb-44d7-9f85-12962f7d49b3",
        "colab": {
          "base_uri": "https://localhost:8080/",
          "height": 201
        }
      },
      "source": [
        "\n",
        "mblstm_history = model_mblstm.fit(train_x, train_y, epochs=num_epochs, batch_size=batch_size, validation_data=(val_x, val_y), verbose=2)"
      ],
      "execution_count": 21,
      "outputs": [
        {
          "output_type": "stream",
          "text": [
            "Epoch 1/5\n",
            "488/488 - 793s - loss: 0.3426 - accuracy: 0.5927 - val_loss: 0.3005 - val_accuracy: 0.6494\n",
            "Epoch 2/5\n",
            "488/488 - 791s - loss: 0.2775 - accuracy: 0.6781 - val_loss: 0.2863 - val_accuracy: 0.6689\n",
            "Epoch 3/5\n",
            "488/488 - 789s - loss: 0.2543 - accuracy: 0.7074 - val_loss: 0.2842 - val_accuracy: 0.6722\n",
            "Epoch 4/5\n",
            "488/488 - 794s - loss: 0.2371 - accuracy: 0.7293 - val_loss: 0.2901 - val_accuracy: 0.6747\n",
            "Epoch 5/5\n",
            "488/488 - 792s - loss: 0.2232 - accuracy: 0.7448 - val_loss: 0.2941 - val_accuracy: 0.6725\n"
          ],
          "name": "stdout"
        }
      ]
    },
    {
      "cell_type": "code",
      "metadata": {
        "id": "C2uyUkFPSCYl",
        "outputId": "6d2f54e7-b17f-46af-974f-1a9fdb019edf",
        "colab": {
          "base_uri": "https://localhost:8080/",
          "height": 541
        }
      },
      "source": [
        "plot_graphs(mblstm_history, 'accuracy')\n",
        "plot_graphs(mblstm_history, 'loss')"
      ],
      "execution_count": 22,
      "outputs": [
        {
          "output_type": "display_data",
          "data": {
            "image/png": "[encoded data removed]",
            "text/plain": [
              "<Figure size 432x288 with 1 Axes>"
            ]
          },
          "metadata": {
            "tags": [],
            "needs_background": "light"
          }
        },
        {
          "output_type": "display_data",
          "data": {
            "image/png": "[encoded data removed]",
            "text/plain": [
              "<Figure size 432x288 with 1 Axes>"
            ]
          },
          "metadata": {
            "tags": [],
            "needs_background": "light"
          }
        }
      ]
    },
    {
      "cell_type": "markdown",
      "metadata": {
        "id": "vH8qwg2uMzXc"
      },
      "source": [
        "# 1-D CNN\n"
      ]
    },
    {
      "cell_type": "code",
      "metadata": {
        "id": "owWEcQWzFgZ5",
        "outputId": "367893c2-9e22-4640-c731-66f5927d3376",
        "colab": {
          "base_uri": "https://localhost:8080/",
          "height": 348
        }
      },
      "source": [
        "model_cnn = tf.keras.Sequential([\n",
        "    tf.keras.layers.Embedding(vocab_size, embedding_dim, input_length=max_length),\n",
        "    tf.keras.layers.Conv1D(128, 5, activation='relu'),\n",
        "    tf.keras.layers.GlobalMaxPooling1D(),\n",
        "    tf.keras.layers.Dense(24, activation='relu'),\n",
        "    tf.keras.layers.Dense(5, activation='softmax')\n",
        "])\n",
        "model_cnn.compile(loss='binary_crossentropy',optimizer='adam',metrics=['accuracy'])\n",
        "model_cnn.summary()\n",
        "\n"
      ],
      "execution_count": 23,
      "outputs": [
        {
          "output_type": "stream",
          "text": [
            "Model: \"sequential_3\"\n",
            "_________________________________________________________________\n",
            "Layer (type)                 Output Shape              Param #   \n",
            "=================================================================\n",
            "embedding_3 (Embedding)      (None, 150, 200)          3000000   \n",
            "_________________________________________________________________\n",
            "conv1d (Conv1D)              (None, 146, 128)          128128    \n",
            "_________________________________________________________________\n",
            "global_max_pooling1d (Global (None, 128)               0         \n",
            "_________________________________________________________________\n",
            "dense_4 (Dense)              (None, 24)                3096      \n",
            "_________________________________________________________________\n",
            "dense_5 (Dense)              (None, 5)                 125       \n",
            "=================================================================\n",
            "Total params: 3,131,349\n",
            "Trainable params: 3,131,349\n",
            "Non-trainable params: 0\n",
            "_________________________________________________________________\n"
          ],
          "name": "stdout"
        }
      ]
    },
    {
      "cell_type": "code",
      "metadata": {
        "id": "anuwnmEJFoQE",
        "outputId": "3be6c6c5-9b9d-4784-d2b5-c7d0ff1d835b",
        "colab": {
          "base_uri": "https://localhost:8080/",
          "height": 201
        }
      },
      "source": [
        "\n",
        "cnn_history = model_cnn.fit(train_x, train_y, epochs=num_epochs, batch_size=batch_size, validation_data=(val_x, val_y), verbose=2)"
      ],
      "execution_count": 24,
      "outputs": [
        {
          "output_type": "stream",
          "text": [
            "Epoch 1/5\n",
            "488/488 - 345s - loss: 0.3422 - accuracy: 0.5946 - val_loss: 0.2962 - val_accuracy: 0.6540\n",
            "Epoch 2/5\n",
            "488/488 - 350s - loss: 0.2668 - accuracy: 0.6917 - val_loss: 0.2849 - val_accuracy: 0.6726\n",
            "Epoch 3/5\n",
            "488/488 - 346s - loss: 0.2331 - accuracy: 0.7334 - val_loss: 0.2930 - val_accuracy: 0.6730\n",
            "Epoch 4/5\n",
            "488/488 - 350s - loss: 0.2073 - accuracy: 0.7642 - val_loss: 0.3062 - val_accuracy: 0.6657\n",
            "Epoch 5/5\n",
            "488/488 - 345s - loss: 0.1858 - accuracy: 0.7903 - val_loss: 0.3276 - val_accuracy: 0.6626\n"
          ],
          "name": "stdout"
        }
      ]
    },
    {
      "cell_type": "code",
      "metadata": {
        "id": "PcRNVcIXF0qn",
        "outputId": "fa65cbb8-e6ff-4f32-ff6e-d72fdbf8e470",
        "colab": {
          "base_uri": "https://localhost:8080/"
        }
      },
      "source": [
        "plot_graphs(cnn_history, 'accuracy')\n",
        "plot_graphs(cnn_history, 'loss')"
      ],
      "execution_count": 25,
      "outputs": [
        {
          "output_type": "display_data",
          "data": {
            "image/png": "[encoded data removed]",
            "text/plain": [
              "<Figure size 432x288 with 1 Axes>"
            ]
          },
          "metadata": {
            "tags": [],
            "needs_background": "light"
          }
        },
        {
          "output_type": "display_data",
          "data": {
            "image/png": "[encoded data removed]",
            "text/plain": [
              "<Figure size 432x288 with 1 Axes>"
            ]
          },
          "metadata": {
            "tags": [],
            "needs_background": "light"
          }
        }
      ]
    },
    {
      "cell_type": "code",
      "metadata": {
        "id": "hFygMg3HQx29"
      },
      "source": [
        ""
      ],
      "execution_count": null,
      "outputs": []
    }
  ]
}